{
  "nbformat": 4,
  "nbformat_minor": 0,
  "metadata": {
    "kernelspec": {
      "display_name": "Python 3",
      "language": "python",
      "name": "python3"
    },
    "language_info": {
      "codemirror_mode": {
        "name": "ipython",
        "version": 3
      },
      "file_extension": ".py",
      "mimetype": "text/x-python",
      "name": "python",
      "nbconvert_exporter": "python",
      "pygments_lexer": "ipython3",
      "version": "3.7.6"
    },
    "colab": {
      "name": "深度學習應用_深度神經網絡(MNIST).ipynb",
      "private_outputs": true,
      "provenance": [],
      "collapsed_sections": []
    },
    "accelerator": "GPU"
  },
  "cells": [
    {
      "cell_type": "markdown",
      "metadata": {
        "id": "Hf7kM6Ovm9LF"
      },
      "source": [
        "# 深度神經網絡手寫辨識分類\n",
        "MNIST 手寫數字資料集介紹每一筆資料的照片是由28 pixels x 28 pixels ，總共784 個pixels 所組成，圖片顯示的是0 到9 之中的一個阿拉伯數字；資料的標籤則表示該手寫數字圖片所呈現的數字為何，也就是0 到9 中一個數值。"
      ]
    },
    {
      "cell_type": "markdown",
      "metadata": {
        "id": "y7HpznKjm9LF"
      },
      "source": [
        "### 1-1 載入相關套件"
      ]
    },
    {
      "cell_type": "code",
      "metadata": {
        "id": "egvZZLqtm9LG"
      },
      "source": [
        "# 資料處理套件\n",
        "import numpy as np\n",
        "import pandas as pd\n",
        "from sklearn.preprocessing import OneHotEncoder"
      ],
      "execution_count": null,
      "outputs": []
    },
    {
      "cell_type": "code",
      "metadata": {
        "id": "fNa434fHm9LJ"
      },
      "source": [
        "# 繪圖套件\n",
        "import matplotlib.image as mpimg # mpimg 用於讀取圖片\n",
        "import matplotlib.pyplot as plt # plt 用於顯示圖片\n",
        "import seaborn as sns"
      ],
      "execution_count": null,
      "outputs": []
    },
    {
      "cell_type": "code",
      "metadata": {
        "id": "AvJRbH9Gm9LM"
      },
      "source": [
        "# Keras深度學習模組套件\n",
        "from keras.utils.np_utils import to_categorical\n",
        "from keras.preprocessing.image import ImageDataGenerator, array_to_img, img_to_array, load_img\n",
        "from keras.optimizers import RMSprop\n",
        "from keras.models import Sequential\n",
        "from keras import utils as np_utils\n",
        "from keras import backend as K\n",
        "from keras import optimizers\n",
        "from keras.datasets import mnist"
      ],
      "execution_count": null,
      "outputs": []
    },
    {
      "cell_type": "code",
      "metadata": {
        "id": "1Xtd4K96m9LO"
      },
      "source": [
        "# tensorflow深度學習模組套件\n",
        "import tensorflow as tf\n",
        "from tensorflow.keras import models\n",
        "from tensorflow.keras import layers\n",
        "from tensorflow import keras"
      ],
      "execution_count": null,
      "outputs": []
    },
    {
      "cell_type": "markdown",
      "metadata": {
        "id": "0E6Fee47m9LQ"
      },
      "source": [
        "### 1-2 設定超參數"
      ]
    },
    {
      "cell_type": "code",
      "metadata": {
        "id": "TemWGB-Ym9LQ"
      },
      "source": [
        "epochs = 60 # 訓練模型的次數\n",
        "batch_size = 80 # 一次傳入多少圖片"
      ],
      "execution_count": null,
      "outputs": []
    },
    {
      "cell_type": "markdown",
      "metadata": {
        "id": "VD3SWp_qm9LS"
      },
      "source": [
        "### 1-3 載入資料集"
      ]
    },
    {
      "cell_type": "code",
      "metadata": {
        "id": "ecHqWBGrm9LT"
      },
      "source": [
        "# 載入 MNIST 資料庫的訓練資料，並自動分為『訓練組』及『測試組』\n",
        "(X_train, y_train), (X_test, y_test) = mnist.load_data()"
      ],
      "execution_count": null,
      "outputs": []
    },
    {
      "cell_type": "code",
      "metadata": {
        "id": "JhrW0L_qm9LV"
      },
      "source": [
        "# 顯示手寫辨識的圖片照片\n",
        "plt.imshow(X_train[90])\n",
        "plt.axis('off')\n",
        "plt.show()"
      ],
      "execution_count": null,
      "outputs": []
    },
    {
      "cell_type": "markdown",
      "metadata": {
        "id": "pP9qxlX3m9LZ"
      },
      "source": [
        "### 1-4 資料特徵的轉換"
      ]
    },
    {
      "cell_type": "code",
      "metadata": {
        "id": "ZXKA1-jIm9LZ"
      },
      "source": [
        "# 將 training 的 input 資料轉為2維\n",
        "X_train_2D = X_train.reshape(60000, 28*28).astype('float32')  \n",
        "X_test_2D = X_test.reshape(10000, 28*28).astype('float32')  \n",
        "\n",
        "x_Train_norm = X_train_2D/255\n",
        "x_Test_norm = X_test_2D/255"
      ],
      "execution_count": null,
      "outputs": []
    },
    {
      "cell_type": "code",
      "metadata": {
        "id": "z31XH6Tdm9Lb"
      },
      "source": [
        "# 將 training 的 label 進行 one-hot encoding，例如數字 7 經過 One-hot encoding 轉換後是 0000001000，即第7個值為 1\n",
        "y_TrainOneHot = np_utils.to_categorical(y_train) \n",
        "y_TestOneHot = np_utils.to_categorical(y_test) "
      ],
      "execution_count": null,
      "outputs": []
    },
    {
      "cell_type": "code",
      "metadata": {
        "id": "PEteZ11lmdWY"
      },
      "source": [
        "print(X_train.shape)\n",
        "print(X_train_2D.shape)"
      ],
      "execution_count": null,
      "outputs": []
    },
    {
      "cell_type": "markdown",
      "metadata": {
        "id": "-zRmcUpUm9Ld"
      },
      "source": [
        "### 1-5 建立深度神經網絡模型"
      ]
    },
    {
      "cell_type": "code",
      "metadata": {
        "id": "hQ8mvqV1m9Le"
      },
      "source": [
        "# 建立深度學習DNN Model\n",
        "\n",
        "model = tf.keras.Sequential()\n",
        "\n",
        "model.add(layers.Dense(units=300, input_dim=784, kernel_initializer='normal', activation='selu'))\n",
        "model.add(layers.Dense(units=900,activation='relu'))\n",
        "model.add(layers.Dense(units=10, kernel_initializer='normal', activation='softmax'))\n",
        "\n",
        "model.summary()"
      ],
      "execution_count": null,
      "outputs": []
    },
    {
      "cell_type": "code",
      "metadata": {
        "id": "-S-7QmeNm9Lg"
      },
      "source": [
        "# 選擇損失函數、優化方法及成效衡量方式\n",
        "# model.compile(optimizer='SGD',\n",
        "#               loss=tf.keras.losses.CategoricalCrossentropy(),\n",
        "#               metrics=['acc'])\n",
        "\n",
        "model.compile(optimizer='Adam',\n",
        "              loss=tf.keras.losses.CategoricalCrossentropy(),\n",
        "              metrics=['acc'])"
      ],
      "execution_count": null,
      "outputs": []
    },
    {
      "cell_type": "markdown",
      "metadata": {
        "id": "wpqWZcwPm9Li"
      },
      "source": [
        "### 1-6 訓練與繪製模型成效"
      ]
    },
    {
      "cell_type": "code",
      "metadata": {
        "id": "l3RhHgVZm9Li"
      },
      "source": [
        "# 進行訓練, 訓練過程會存在 train_history 變數中\n",
        "train_history = model.fit(x=x_Train_norm, y=y_TrainOneHot, validation_split=0.2, epochs=epochs, batch_size=batch_size, verbose=2)  "
      ],
      "execution_count": null,
      "outputs": []
    },
    {
      "cell_type": "markdown",
      "metadata": {
        "id": "MvsjrBe8m9Lk"
      },
      "source": [
        "### 1-7 推論圖片"
      ]
    },
    {
      "cell_type": "code",
      "metadata": {
        "id": "h-hw1qGLm9Ll"
      },
      "source": [
        "# 顯示訓練成果(分數)\n",
        "scores = model.evaluate(x_Test_norm, y_TestOneHot)  \n",
        "print()  \n",
        "print(\"\\t[Info] Accuracy of testing data = {:2.1f}%\".format(scores[1]*100.0))  "
      ],
      "execution_count": null,
      "outputs": []
    },
    {
      "cell_type": "code",
      "metadata": {
        "id": "6eyiKmoTm9Ln"
      },
      "source": [
        "# 預測(prediction)\n",
        "X = x_Test_norm[0:10,:]\n",
        "predictions = model.predict(X)"
      ],
      "execution_count": null,
      "outputs": []
    },
    {
      "cell_type": "code",
      "metadata": {
        "id": "S0K_aZVfm9Lr"
      },
      "source": [
        "# 模型預測後的標籤\n",
        "predict_label = np.argmax(predictions,axis=1)\n",
        "print(predict_label)\n",
        "print(len(predict_label))"
      ],
      "execution_count": null,
      "outputs": []
    },
    {
      "cell_type": "code",
      "metadata": {
        "id": "xtellSyNm9Lt"
      },
      "source": [
        "# 模型原標籤\n",
        "true_label = y_test[0:10]   \n",
        "true_label = np.array(true_label)\n",
        "print(true_label)\n",
        "print(len(true_label))"
      ],
      "execution_count": null,
      "outputs": []
    },
    {
      "cell_type": "code",
      "metadata": {
        "id": "H7Y9yr7Um9Lv"
      },
      "source": [
        "plt.plot(train_history.history['loss'])  \n",
        "plt.plot(train_history.history['val_loss'])  \n",
        "plt.title('Train History')  \n",
        "plt.ylabel('loss')  \n",
        "plt.xlabel('Epoch')  \n",
        "plt.legend(['loss', 'val_loss'], loc='upper left')  \n",
        "plt.show() "
      ],
      "execution_count": null,
      "outputs": []
    },
    {
      "cell_type": "code",
      "metadata": {
        "id": "LWXXnIeDm9Lx"
      },
      "source": [
        ""
      ],
      "execution_count": null,
      "outputs": []
    }
  ]
}