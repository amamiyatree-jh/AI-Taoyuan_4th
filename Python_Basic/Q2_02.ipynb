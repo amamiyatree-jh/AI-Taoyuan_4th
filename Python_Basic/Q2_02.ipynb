{
 "cells": [
  {
   "cell_type": "markdown",
   "metadata": {},
   "source": [
    "Q2：(opendata_requests.csv) 讓使用者查詢 \"提供機關名稱\"，查詢後的結果輸出成一個新的 csv，檔名叫做 查詢的機關名稱_data.csv。"
   ]
  },
  {
   "cell_type": "code",
   "execution_count": 102,
   "metadata": {},
   "outputs": [],
   "source": [
    "import csv\n",
    "\n",
    "dict_data = []\n",
    "with open(\"../data/opendata_requests.csv\", encoding=\"utf-8\") as f:\n",
    "    reader = csv.reader(f)\n",
    "\n",
    "    max_download = 0\n",
    "    max_dataset_name = \"\"\n",
    "    key_list = []\n",
    "\n",
    "    for i, data in enumerate(reader):\n",
    "        data[2] = data[2].replace(\",\", \"\")\n",
    "        data[3] = data[3].replace(\",\", \"\")\n",
    "        \n",
    "        if i == 0 :\n",
    "            key_list = data\n",
    "            \n",
    "        if i != 0 :\n",
    "            dict_data.append(dict(zip(key_list, data)))\n",
    "f.close()"
   ]
  },
  {
   "cell_type": "code",
   "execution_count": 103,
   "metadata": {},
   "outputs": [
    {
     "name": "stdin",
     "output_type": "stream",
     "text": [
      "請輸入想要查詢提供機關名稱： 文化部\n"
     ]
    },
    {
     "name": "stdout",
     "output_type": "stream",
     "text": [
      "資料輸出完成，輸出檔名為 文化部_data.csv\n"
     ]
    }
   ],
   "source": [
    "department_name = input('請輸入想要查詢提供機關名稱：')\n",
    "\n",
    "data_outport_buff = []\n",
    "for i ,  dict_all in enumerate(dict_data):\n",
    "    if dict_all['提供機關名稱'] == department_name:\n",
    "        data_outport_buff.append(list(dict_all.values()))\n",
    "\n",
    "if len(data_outport_buff) == 0:\n",
    "    print('無任何資料')\n",
    "else:\n",
    "    import csv\n",
    "    outport_file_name =  department_name + '_data.csv'\n",
    "    with open(outport_file_name, \"w\", encoding=\"utf-8\", newline=\"\") as f:\n",
    "        writer = csv.writer(f)\n",
    "        writer.writerow(['提供機關名稱','資料集名稱','瀏覽次數','下載次數','資料集評分','上架日期'])\n",
    "        for row in data_outport_buff:\n",
    "            writer.writerow(row)\n",
    "    f.close()\n",
    "    print('資料輸出完成，輸出檔名為 %s' % outport_file_name)"
   ]
  }
 ],
 "metadata": {
  "kernelspec": {
   "display_name": "Python 3",
   "language": "python",
   "name": "python3"
  },
  "language_info": {
   "codemirror_mode": {
    "name": "ipython",
    "version": 3
   },
   "file_extension": ".py",
   "mimetype": "text/x-python",
   "name": "python",
   "nbconvert_exporter": "python",
   "pygments_lexer": "ipython3",
   "version": "3.7.7"
  }
 },
 "nbformat": 4,
 "nbformat_minor": 4
}
