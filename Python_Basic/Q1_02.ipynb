{
 "cells": [
  {
   "cell_type": "code",
   "execution_count": 12,
   "metadata": {},
   "outputs": [
    {
     "name": "stdout",
     "output_type": "stream",
     "text": [
      "[伙食]2019/11/21 $100-早餐\n"
     ]
    }
   ],
   "source": [
    "def get_tag_date_cost(data):\n",
    "    segment_1 = data.split(']')\n",
    "    segment_2 = segment_1[0].split('[')\n",
    "    tag = segment_2[1]\n",
    "    segment_3 = segment_1[1].split(' $')\n",
    "    date = segment_3[0]\n",
    "    segment_4 = segment_3[1].split('-')\n",
    "    cost = segment_4[0]\n",
    "    if len(segment_4) == 1:\n",
    "        remarks = ''\n",
    "    else:\n",
    "        remarks = segment_4[1]\n",
    "    \n",
    "    return tag, date, cost, remarks\n",
    "\n",
    "br_big_outlist = ''\n",
    "br_big_buff = 0\n",
    "with open('../../data/CostData.txt', encoding='utf-8') as f:\n",
    "    cost_list = f.readlines()\n",
    "    for cost_data in cost_list:\n",
    "        \n",
    "        cost_data = cost_data.strip()\n",
    "        \n",
    "        if cost_data != '':\n",
    "            \n",
    "            tag, date, cost, remarks = get_tag_date_cost(cost_data)\n",
    "            \n",
    "            if remarks == '早餐':\n",
    "                if br_big_buff < int(cost):\n",
    "                    br_big_buff = int(cost)\n",
    "                    br_big_outlist = '[' + tag + ']' + date + ' $' + str(cost) + '-' + remarks\n",
    "    \n",
    "    print(br_big_outlist)"
   ]
  },
  {
   "cell_type": "code",
   "execution_count": null,
   "metadata": {},
   "outputs": [],
   "source": []
  }
 ],
 "metadata": {
  "kernelspec": {
   "display_name": "Python 3",
   "language": "python",
   "name": "python3"
  },
  "language_info": {
   "codemirror_mode": {
    "name": "ipython",
    "version": 3
   },
   "file_extension": ".py",
   "mimetype": "text/x-python",
   "name": "python",
   "nbconvert_exporter": "python",
   "pygments_lexer": "ipython3",
   "version": "3.7.6"
  }
 },
 "nbformat": 4,
 "nbformat_minor": 4
}
