{
 "cells": [
  {
   "cell_type": "markdown",
   "metadata": {},
   "source": [
    "Q3：把水質檢測1~3月的 csv 整合成一份 csv。(option：項次的順序)"
   ]
  },
  {
   "cell_type": "code",
   "execution_count": 76,
   "metadata": {},
   "outputs": [],
   "source": [
    "import csv\n",
    "\n",
    "data_buff = []\n",
    "title01 = []\n",
    "\n",
    "filelist_name = ['自來水水質抽驗結果(106年1月)','自來水水質抽驗結果(106年2月)','自來水水質抽驗結果(106年3月)']\n",
    "for evn, fln in enumerate(filelist_name):\n",
    "    file_path = '../data/水質檢測/'\n",
    "    file_name = file_path + fln + '.csv'\n",
    "    with open( file_name , encoding=\"utf-8\") as f:\n",
    "        reader = csv.reader(f)\n",
    "        for i, data in enumerate(reader):\n",
    "            if i > 1 :\n",
    "                if data[0] != '':\n",
    "                    data_buff.append(data[1:])\n",
    "            else:\n",
    "                if evn == 0 :\n",
    "                    title01.append(data)\n",
    "    f.close()\n",
    "    \n",
    "event_number = len(data_buff)\n",
    "for en in range(event_number):\n",
    "    data_buff[en].insert(0,en+1)"
   ]
  },
  {
   "cell_type": "code",
   "execution_count": 77,
   "metadata": {},
   "outputs": [],
   "source": [
    "with open('自來水水質抽驗結果(106年1到3月).csv', \"w\", encoding=\"utf-8\", newline=\"\") as f:\n",
    "    writer = csv.writer(f)\n",
    "    writer.writerow(title01[0])\n",
    "    writer.writerow(title01[1])\n",
    "    for row in data_buff:\n",
    "        writer.writerow(row)\n",
    "f.close()"
   ]
  }
 ],
 "metadata": {
  "kernelspec": {
   "display_name": "Python 3",
   "language": "python",
   "name": "python3"
  },
  "language_info": {
   "codemirror_mode": {
    "name": "ipython",
    "version": 3
   },
   "file_extension": ".py",
   "mimetype": "text/x-python",
   "name": "python",
   "nbconvert_exporter": "python",
   "pygments_lexer": "ipython3",
   "version": "3.7.7"
  }
 },
 "nbformat": 4,
 "nbformat_minor": 4
}
